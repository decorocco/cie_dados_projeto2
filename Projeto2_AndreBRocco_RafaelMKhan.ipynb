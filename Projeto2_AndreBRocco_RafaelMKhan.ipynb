{
 "cells": [
  {
   "cell_type": "markdown",
   "metadata": {},
   "source": [
    "# Projeto 2 - Ciência dos Dados"
   ]
  },
  {
   "cell_type": "markdown",
   "metadata": {},
   "source": [
    "Nome: **André Barone Rocco**\n",
    "\n",
    "Nome: **Rafael Meyer Kahn**"
   ]
  },
  {
   "cell_type": "markdown",
   "metadata": {},
   "source": [
    "___\n",
    "# Classificador automático de sentimento\n"
   ]
  },
  {
   "cell_type": "markdown",
   "metadata": {},
   "source": [
    "## Preparando o ambiente no jupyter:"
   ]
  },
  {
   "cell_type": "code",
   "execution_count": 64,
   "metadata": {
    "jupyter": {
     "outputs_hidden": true
    }
   },
   "outputs": [],
   "source": [
    "import tweepy\n",
    "import math\n",
    "import os.path\n",
    "import pandas as pd\n",
    "import json\n",
    "from random import shuffle\n",
    "import numpy as np\n",
    "from IPython.display import display\n",
    "import re\n",
    "import emoji\n",
    "import emoji_list\n",
    "\n",
    "pd.options.display.max_rows = 20"
   ]
  },
  {
   "cell_type": "markdown",
   "metadata": {},
   "source": [
    "___\n",
    "## Autenticando no  Twitter\n",
    "\n",
    "* Conta: ***@hayesfps***"
   ]
  },
  {
   "cell_type": "code",
   "execution_count": 2,
   "metadata": {
    "jupyter": {
     "outputs_hidden": true
    }
   },
   "outputs": [],
   "source": [
    "#Dados de autenticação do twitter:\n",
    "\n",
    "#Coloque aqui o identificador da conta no twitter: @hayesfps\n",
    "\n",
    "#leitura do arquivo no formato JSON\n",
    "with open('auth.pass') as fp:\n",
    "    data = json.load(fp)\n",
    "\n",
    "#Configurando a biblioteca. Não modificar\n",
    "auth = tweepy.OAuthHandler(data['consumer_key'], data['consumer_secret'])\n",
    "auth.set_access_token(data['access_token'], data['access_token_secret'])"
   ]
  },
  {
   "cell_type": "markdown",
   "metadata": {},
   "source": [
    "___\n",
    "## Etapas do projeto:"
   ]
  },
  {
   "cell_type": "markdown",
   "metadata": {},
   "source": [
    "### Escolha de um produto e coleta das mensagens\n"
   ]
  },
  {
   "cell_type": "code",
   "execution_count": 3,
   "metadata": {
    "jupyter": {
     "outputs_hidden": true
    }
   },
   "outputs": [],
   "source": [
    "#Produto escolhido:\n",
    "produto = 'intel'\n",
    "\n",
    "#Quantidade mínima de mensagens capturadas:\n",
    "n = 500\n",
    "#Quantidade mínima de mensagens para a base de treinamento:\n",
    "t = 300\n",
    "\n",
    "#Filtro de língua, escolha uma na tabela ISO 639-1.\n",
    "lang = 'pt'"
   ]
  },
  {
   "cell_type": "markdown",
   "metadata": {},
   "source": [
    "Capturando os dados do twitter:"
   ]
  },
  {
   "cell_type": "code",
   "execution_count": 4,
   "metadata": {
    "jupyter": {
     "outputs_hidden": true
    }
   },
   "outputs": [],
   "source": [
    "#Cria um objeto para a captura\n",
    "api = tweepy.API(auth)\n",
    "\n",
    "#Inicia a captura (sem rt)\n",
    "i = 1\n",
    "msgs = []\n",
    "for msg in tweepy.Cursor(api.search, q=produto, lang=lang, tweet_mode=\"extended\").items():    \n",
    "    if msg.full_text.lower()[0] != 'r' and msg.full_text.lower()[1] != 't':\n",
    "        msgs.append(msg.full_text.lower())\n",
    "        i += 1\n",
    "        if i > n:\n",
    "                break\n",
    "\n",
    "#Embaralhando as mensagens para reduzir um possível viés\n",
    "shuffle(msgs)"
   ]
  },
  {
   "cell_type": "markdown",
   "metadata": {},
   "source": [
    "Salvando os dados em uma planilha Excel:"
   ]
  },
  {
   "cell_type": "code",
   "execution_count": 5,
   "metadata": {
    "jupyter": {
     "outputs_hidden": true
    }
   },
   "outputs": [],
   "source": [
    "#Verifica se o arquivo não existe para não substituir um conjunto pronto\n",
    "if not os.path.isfile('./{0}.xlsx'.format(produto)):\n",
    "    \n",
    "    #Abre o arquivo para escrita\n",
    "    writer = pd.ExcelWriter('{0}.xlsx'.format(produto))\n",
    "\n",
    "    #divide o conjunto de mensagens em duas planilhas\n",
    "    dft = pd.DataFrame({'Treinamento' : pd.Series(msgs[:t])})\n",
    "    dft.to_excel(excel_writer = writer, sheet_name = 'Treinamento', index = False)\n",
    "\n",
    "    dfc = pd.DataFrame({'Teste' : pd.Series(msgs[t:])})\n",
    "    dfc.to_excel(excel_writer = writer, sheet_name = 'Teste', index = False)\n",
    "\n",
    "    #fecha o arquivo\n",
    "    writer.save()"
   ]
  },
  {
   "cell_type": "markdown",
   "metadata": {},
   "source": [
    "___\n",
    "### Classificando as mensagens manualmente\n",
    "\n",
    "Esta etapa é manual. Faça a mesma pelo Excel."
   ]
  },
  {
   "cell_type": "markdown",
   "metadata": {},
   "source": [
    "___\n",
    "### Montando o Classificador Naive-Bayes\n",
    "\n",
    "Considerando apenas as mensagens da planilha Treinamento, ensine  seu classificador."
   ]
  },
  {
   "cell_type": "code",
   "execution_count": 65,
   "metadata": {},
   "outputs": [],
   "source": [
    "#atribuindo arquivo a uma variável\n",
    "dados = pd.read_excel('intel.xlsx')\n",
    "dados_teste = pd.read_excel('intel.xlsx','Teste')"
   ]
  },
  {
   "cell_type": "code",
   "execution_count": 66,
   "metadata": {},
   "outputs": [
    {
     "data": {
      "text/html": [
       "<div>\n",
       "<style scoped>\n",
       "    .dataframe tbody tr th:only-of-type {\n",
       "        vertical-align: middle;\n",
       "    }\n",
       "\n",
       "    .dataframe tbody tr th {\n",
       "        vertical-align: top;\n",
       "    }\n",
       "\n",
       "    .dataframe thead th {\n",
       "        text-align: right;\n",
       "    }\n",
       "</style>\n",
       "<table border=\"1\" class=\"dataframe\">\n",
       "  <thead>\n",
       "    <tr style=\"text-align: right;\">\n",
       "      <th></th>\n",
       "      <th>Treinamento</th>\n",
       "      <th>Relevancia</th>\n",
       "    </tr>\n",
       "  </thead>\n",
       "  <tbody>\n",
       "    <tr>\n",
       "      <th>0</th>\n",
       "      <td>@aziebert multithreaded command buffering é na...</td>\n",
       "      <td>0</td>\n",
       "    </tr>\n",
       "    <tr>\n",
       "      <th>1</th>\n",
       "      <td>ferramentas linux: como a equipe do clear linu...</td>\n",
       "      <td>0</td>\n",
       "    </tr>\n",
       "    <tr>\n",
       "      <th>2</th>\n",
       "      <td>fique a conhecer o portátil de 14\" mais leve d...</td>\n",
       "      <td>0</td>\n",
       "    </tr>\n",
       "    <tr>\n",
       "      <th>3</th>\n",
       "      <td>@jornaloglobo a gente sabe que desde o primeir...</td>\n",
       "      <td>0</td>\n",
       "    </tr>\n",
       "    <tr>\n",
       "      <th>4</th>\n",
       "      <td>#workstation com dual #xeon 6240 (36-core/72-t...</td>\n",
       "      <td>0</td>\n",
       "    </tr>\n",
       "  </tbody>\n",
       "</table>\n",
       "</div>"
      ],
      "text/plain": [
       "                                         Treinamento  Relevancia\n",
       "0  @aziebert multithreaded command buffering é na...           0\n",
       "1  ferramentas linux: como a equipe do clear linu...           0\n",
       "2  fique a conhecer o portátil de 14\" mais leve d...           0\n",
       "3  @jornaloglobo a gente sabe que desde o primeir...           0\n",
       "4  #workstation com dual #xeon 6240 (36-core/72-t...           0"
      ]
     },
     "execution_count": 66,
     "metadata": {},
     "output_type": "execute_result"
    }
   ],
   "source": [
    "#exibindo Tweets\n",
    "dados.head()"
   ]
  },
  {
   "cell_type": "code",
   "execution_count": 67,
   "metadata": {},
   "outputs": [
    {
     "data": {
      "text/html": [
       "<div>\n",
       "<style scoped>\n",
       "    .dataframe tbody tr th:only-of-type {\n",
       "        vertical-align: middle;\n",
       "    }\n",
       "\n",
       "    .dataframe tbody tr th {\n",
       "        vertical-align: top;\n",
       "    }\n",
       "\n",
       "    .dataframe thead th {\n",
       "        text-align: right;\n",
       "    }\n",
       "</style>\n",
       "<table border=\"1\" class=\"dataframe\">\n",
       "  <thead>\n",
       "    <tr style=\"text-align: right;\">\n",
       "      <th></th>\n",
       "      <th>Teste</th>\n",
       "      <th>Relevancia</th>\n",
       "    </tr>\n",
       "  </thead>\n",
       "  <tbody>\n",
       "    <tr>\n",
       "      <th>0</th>\n",
       "      <td>@mxttewz intel vc me prometeu</td>\n",
       "      <td>0</td>\n",
       "    </tr>\n",
       "    <tr>\n",
       "      <th>1</th>\n",
       "      <td>#partiusp ... se os seus #servidores vão pra #...</td>\n",
       "      <td>0</td>\n",
       "    </tr>\n",
       "    <tr>\n",
       "      <th>2</th>\n",
       "      <td>no entanto, quando falamos de gráficos, o amd ...</td>\n",
       "      <td>1</td>\n",
       "    </tr>\n",
       "    <tr>\n",
       "      <th>3</th>\n",
       "      <td>@apex_intel super mario galaxy 2</td>\n",
       "      <td>0</td>\n",
       "    </tr>\n",
       "    <tr>\n",
       "      <th>4</th>\n",
       "      <td>🎁‍super precio  #amazon | #informática\\nlenovo...</td>\n",
       "      <td>0</td>\n",
       "    </tr>\n",
       "  </tbody>\n",
       "</table>\n",
       "</div>"
      ],
      "text/plain": [
       "                                               Teste  Relevancia\n",
       "0                      @mxttewz intel vc me prometeu           0\n",
       "1  #partiusp ... se os seus #servidores vão pra #...           0\n",
       "2  no entanto, quando falamos de gráficos, o amd ...           1\n",
       "3                   @apex_intel super mario galaxy 2           0\n",
       "4  🎁‍super precio  #amazon | #informática\\nlenovo...           0"
      ]
     },
     "execution_count": 67,
     "metadata": {},
     "output_type": "execute_result"
    }
   ],
   "source": [
    "dados_teste.head()"
   ]
  },
  {
   "cell_type": "code",
   "execution_count": 68,
   "metadata": {
    "scrolled": true
   },
   "outputs": [],
   "source": [
    "#funcao para limpar caracteres indesejados e para separar caracteres de palavras que poderiam estar juntos(emojis, '!', '?').\n",
    "#necessário a instalação das livrarias 'emoji' e 'emoji_list'\n",
    "\n",
    "def cleanup(tabela, titulo):\n",
    "    \n",
    "    a = tabela[titulo]\n",
    "    a = a.str.lower()\n",
    "\n",
    "    itens = ['.', ':', ';', '\"', \"'\", '?', '(', ')', '[',']',',', '\\n', '\\t','*','|','+']\n",
    "    i2 = ['?', '!']\n",
    "    \n",
    "    emojis = emoji_list.all_emoji\n",
    "    \n",
    "    #separa emojis de palavras\n",
    "    for emoji in emojis:\n",
    "        try:\n",
    "            a = a.str.replace(emoji,\" {} \".format(emoji))\n",
    "        except:\n",
    "            pass\n",
    "        \n",
    "    #retira caracteres indesejados\n",
    "    for e in itens:\n",
    "        a = a.str.replace(e,'')\n",
    "        \n",
    "    #separa '?' e '!' de palavras\n",
    "    for e in i2:\n",
    "        a = a.str.replace(e,' {} '.format(e))\n",
    "\n",
    "    #Substitui caracteres com acento ou variação por caracteres desejados\n",
    "    a = a.str.replace('é','e')\n",
    "    a = a.str.replace('ê','e')\n",
    "    a = a.str.replace('á','a')\n",
    "    a = a.str.replace('ã','a')\n",
    "    a = a.str.replace('ô','o')\n",
    "    a = a.str.replace('ó','o')\n",
    "    a = a.str.replace('ú','u')\n",
    "    a = a.str.replace('ç','c')\n",
    "    a = a.str.replace('í','i')\n",
    "    a = a.str.replace('@',' @')\n",
    "    tabela[titulo] = a\n",
    "\n",
    "    return tabela"
   ]
  },
  {
   "cell_type": "code",
   "execution_count": 69,
   "metadata": {},
   "outputs": [
    {
     "data": {
      "text/html": [
       "<div>\n",
       "<style scoped>\n",
       "    .dataframe tbody tr th:only-of-type {\n",
       "        vertical-align: middle;\n",
       "    }\n",
       "\n",
       "    .dataframe tbody tr th {\n",
       "        vertical-align: top;\n",
       "    }\n",
       "\n",
       "    .dataframe thead th {\n",
       "        text-align: right;\n",
       "    }\n",
       "</style>\n",
       "<table border=\"1\" class=\"dataframe\">\n",
       "  <thead>\n",
       "    <tr style=\"text-align: right;\">\n",
       "      <th></th>\n",
       "      <th>Treinamento</th>\n",
       "      <th>Relevancia</th>\n",
       "    </tr>\n",
       "  </thead>\n",
       "  <tbody>\n",
       "    <tr>\n",
       "      <th>0</th>\n",
       "      <td>@aziebert multithreaded command buffering e n...</td>\n",
       "      <td>0</td>\n",
       "    </tr>\n",
       "    <tr>\n",
       "      <th>1</th>\n",
       "      <td>ferramentas linux como a equipe do clear linux...</td>\n",
       "      <td>0</td>\n",
       "    </tr>\n",
       "    <tr>\n",
       "      <th>2</th>\n",
       "      <td>fique a conhecer o portatil de  1  4  mais lev...</td>\n",
       "      <td>0</td>\n",
       "    </tr>\n",
       "    <tr>\n",
       "      <th>3</th>\n",
       "      <td>@jornaloglobo a gente sabe que desde o primei...</td>\n",
       "      <td>0</td>\n",
       "    </tr>\n",
       "    <tr>\n",
       "      <th>4</th>\n",
       "      <td># workstation com dual  # xeon  6  2  4  0   ...</td>\n",
       "      <td>0</td>\n",
       "    </tr>\n",
       "  </tbody>\n",
       "</table>\n",
       "</div>"
      ],
      "text/plain": [
       "                                         Treinamento  Relevancia\n",
       "0   @aziebert multithreaded command buffering e n...           0\n",
       "1  ferramentas linux como a equipe do clear linux...           0\n",
       "2  fique a conhecer o portatil de  1  4  mais lev...           0\n",
       "3   @jornaloglobo a gente sabe que desde o primei...           0\n",
       "4   # workstation com dual  # xeon  6  2  4  0   ...           0"
      ]
     },
     "execution_count": 69,
     "metadata": {},
     "output_type": "execute_result"
    }
   ],
   "source": [
    "#usando função para limpar caracteres indesejados da tabela de Tweets inicial\n",
    "clean = cleanup(dados,'Treinamento')\n",
    "clean.head()"
   ]
  },
  {
   "cell_type": "code",
   "execution_count": 70,
   "metadata": {
    "scrolled": true
   },
   "outputs": [],
   "source": [
    "#Criando tabela com apenas tweets irrelevantes\n",
    "clean0 = clean.loc[(clean.Relevancia == 0)]\n",
    "#Criando tabela com apenas tweets relevantes\n",
    "clean1 = clean.loc[(clean.Relevancia == 1)]"
   ]
  },
  {
   "cell_type": "code",
   "execution_count": 71,
   "metadata": {},
   "outputs": [],
   "source": [
    "#Função para separar palavras por tweet\n",
    "def t_split(tabela, titulo):\n",
    "    a = tabela[titulo].str.split(' ')\n",
    "\n",
    "    li = pd.DataFrame()\n",
    "    li['palavras'] = []\n",
    "\n",
    "    for lista in a:\n",
    "        for e in ['#','' , ' ']:\n",
    "            while lista.count(e) != 0:\n",
    "                lista.remove(e)\n",
    "\n",
    "        for palavra in lista:\n",
    "            if '@' in palavra and palavra != '@':\n",
    "                lista.remove(palavra) \n",
    "            if palavra[:4] == 'http':\n",
    "                lista.remove(palavra)\n",
    "        li = li.append({'palavras': lista}, ignore_index=True)\n",
    "                \n",
    "    return li"
   ]
  },
  {
   "cell_type": "code",
   "execution_count": 72,
   "metadata": {
    "scrolled": false
   },
   "outputs": [
    {
     "data": {
      "text/html": [
       "<div>\n",
       "<style scoped>\n",
       "    .dataframe tbody tr th:only-of-type {\n",
       "        vertical-align: middle;\n",
       "    }\n",
       "\n",
       "    .dataframe tbody tr th {\n",
       "        vertical-align: top;\n",
       "    }\n",
       "\n",
       "    .dataframe thead th {\n",
       "        text-align: right;\n",
       "    }\n",
       "</style>\n",
       "<table border=\"1\" class=\"dataframe\">\n",
       "  <thead>\n",
       "    <tr style=\"text-align: right;\">\n",
       "      <th></th>\n",
       "      <th>palavras</th>\n",
       "    </tr>\n",
       "  </thead>\n",
       "  <tbody>\n",
       "    <tr>\n",
       "      <th>0</th>\n",
       "      <td>[intel, lanca, segunda, versao, de, seu, hyper...</td>\n",
       "    </tr>\n",
       "    <tr>\n",
       "      <th>1</th>\n",
       "      <td>[se, um, pc, e, intel, core, 3, sem, nenhum, p...</td>\n",
       "    </tr>\n",
       "    <tr>\n",
       "      <th>2</th>\n",
       "      <td>[significado, das, letras, de, sufixo, dos, no...</td>\n",
       "    </tr>\n",
       "    <tr>\n",
       "      <th>3</th>\n",
       "      <td>[nao, recomendo, amd, nem, pro, meu, pior, ini...</td>\n",
       "    </tr>\n",
       "    <tr>\n",
       "      <th>4</th>\n",
       "      <td>[o, intel, eh, o, modelo, mais, famoso, do, me...</td>\n",
       "    </tr>\n",
       "    <tr>\n",
       "      <th>5</th>\n",
       "      <td>[como, rodar, cyberpunk, 2, 0, 7, 7, num, inte...</td>\n",
       "    </tr>\n",
       "    <tr>\n",
       "      <th>6</th>\n",
       "      <td>[ja, nao, bastasse, os, bugs, de, processador,...</td>\n",
       "    </tr>\n",
       "    <tr>\n",
       "      <th>7</th>\n",
       "      <td>[se, eu, investisse, no, mercado, americano, c...</td>\n",
       "    </tr>\n",
       "    <tr>\n",
       "      <th>8</th>\n",
       "      <td>[@dantemenelau, comeco, da, grande, revolucao,...</td>\n",
       "    </tr>\n",
       "    <tr>\n",
       "      <th>9</th>\n",
       "      <td>[apple, ta, querendo, ser, igual, a, intel, to...</td>\n",
       "    </tr>\n",
       "  </tbody>\n",
       "</table>\n",
       "</div>"
      ],
      "text/plain": [
       "                                            palavras\n",
       "0  [intel, lanca, segunda, versao, de, seu, hyper...\n",
       "1  [se, um, pc, e, intel, core, 3, sem, nenhum, p...\n",
       "2  [significado, das, letras, de, sufixo, dos, no...\n",
       "3  [nao, recomendo, amd, nem, pro, meu, pior, ini...\n",
       "4  [o, intel, eh, o, modelo, mais, famoso, do, me...\n",
       "5  [como, rodar, cyberpunk, 2, 0, 7, 7, num, inte...\n",
       "6  [ja, nao, bastasse, os, bugs, de, processador,...\n",
       "7  [se, eu, investisse, no, mercado, americano, c...\n",
       "8  [@dantemenelau, comeco, da, grande, revolucao,...\n",
       "9  [apple, ta, querendo, ser, igual, a, intel, to..."
      ]
     },
     "execution_count": 72,
     "metadata": {},
     "output_type": "execute_result"
    }
   ],
   "source": [
    "#Separando tweets da tabela 'limpa'(relevantes)\n",
    "splt1 = t_split(clean1,'Treinamento')\n",
    "#Separando tweets da tabela 'limpa'(irrelevantes)\n",
    "splt0 = t_split(clean0,'Treinamento')\n",
    "splt1.head(10)"
   ]
  },
  {
   "cell_type": "code",
   "execution_count": 73,
   "metadata": {},
   "outputs": [],
   "source": [
    "#Função para criar tabela com palavras separadas individualmente a partir da tabela\n",
    "def palavra_linha(tabela):\n",
    "    a = tabela['palavras']\n",
    "    prob = pd.DataFrame()\n",
    "    prob['palavras'] = []\n",
    "    for lista in a:\n",
    "        for e in lista:\n",
    "            prob = prob.append({'palavras': e}, ignore_index=True)\n",
    "    \n",
    "    return prob['palavras']"
   ]
  },
  {
   "cell_type": "code",
   "execution_count": 74,
   "metadata": {},
   "outputs": [
    {
     "data": {
      "text/plain": [
       "0            intel\n",
       "1            lanca\n",
       "2          segunda\n",
       "3           versao\n",
       "4               de\n",
       "5              seu\n",
       "6       hypervisor\n",
       "7               de\n",
       "8            nuvem\n",
       "9          escrito\n",
       "           ...    \n",
       "1939         intel\n",
       "1940         ultra\n",
       "1941            hd\n",
       "1942             2\n",
       "1943             0\n",
       "1944             d\n",
       "1945           ate\n",
       "1946        estage\n",
       "1947           vai\n",
       "1948           ter\n",
       "Name: palavras, Length: 1949, dtype: object"
      ]
     },
     "execution_count": 74,
     "metadata": {},
     "output_type": "execute_result"
    }
   ],
   "source": [
    "#Separando palavras individualmente(irrelevantes)\n",
    "tab0 = palavra_linha(splt0)\n",
    "#Separando palavras individualmente(relevantes)\n",
    "tab1 = palavra_linha(splt1)\n",
    "tab1"
   ]
  },
  {
   "cell_type": "code",
   "execution_count": 75,
   "metadata": {},
   "outputs": [
    {
     "data": {
      "text/plain": [
       "e        80\n",
       "intel    73\n",
       "de       57\n",
       "0        57\n",
       "o        39\n",
       "Name: palavras, dtype: int64"
      ]
     },
     "execution_count": 75,
     "metadata": {},
     "output_type": "execute_result"
    }
   ],
   "source": [
    "#Frequências absolutas(relevantes)\n",
    "frq1 = tab1.value_counts()\n",
    "frq1.head()"
   ]
  },
  {
   "cell_type": "code",
   "execution_count": 76,
   "metadata": {},
   "outputs": [
    {
     "data": {
      "text/plain": [
       "0    536\n",
       "1    393\n",
       "9    335\n",
       "5    319\n",
       "2    293\n",
       "Name: palavras, dtype: int64"
      ]
     },
     "execution_count": 76,
     "metadata": {},
     "output_type": "execute_result"
    }
   ],
   "source": [
    "#Frequências absolutas(irrelevantes)\n",
    "frq0 = tab0.value_counts()\n",
    "frq0.head()"
   ]
  },
  {
   "cell_type": "code",
   "execution_count": 77,
   "metadata": {},
   "outputs": [
    {
     "data": {
      "text/plain": [
       "e        4.104669\n",
       "intel    3.745511\n",
       "de       2.924577\n",
       "0        2.924577\n",
       "o        2.001026\n",
       "Name: palavras, dtype: float64"
      ]
     },
     "execution_count": 77,
     "metadata": {},
     "output_type": "execute_result"
    }
   ],
   "source": [
    "#Frequências relativas(relevantes)\n",
    "frq_rel1 = tab1.value_counts(True)\n",
    "#Exibindo frequências relativas em porcentagem\n",
    "frq_rel1.head()*100"
   ]
  },
  {
   "cell_type": "markdown",
   "metadata": {},
   "source": [
    "___\n",
    "### Verificando a performance\n",
    "​\n",
    "Agora você deve testar o seu classificador com a base de Testes.\n"
   ]
  },
  {
   "cell_type": "code",
   "execution_count": 91,
   "metadata": {},
   "outputs": [],
   "source": [
    "#criando coluna para resultados do classificador\n",
    "dados_teste['Bot'] = 0\n",
    "\n",
    "#criando coluna para comparação dos resultados do classificador Vs feitos à mão \n",
    "dados_teste['Resultado'] = pd.Series()\n",
    "\n",
    "#mudando DataFrame de teste para que classificador possa ler\n",
    "teste_clean = cleanup(dados_teste,'Teste')\n",
    "teste_f = t_split(teste_clean,'Teste')\n",
    "\n",
    "#função para multiplicar itens dentro de uma lista\n",
    "def multiplica(Lista) :     \n",
    "    u = 1\n",
    "    for x in Lista: \n",
    "         u = u * x  \n",
    "    return u  \n"
   ]
  },
  {
   "cell_type": "code",
   "execution_count": 82,
   "metadata": {},
   "outputs": [
    {
     "name": "stderr",
     "output_type": "stream",
     "text": [
      "C:\\Users\\Aspire_andre\\Anaconda3\\lib\\site-packages\\ipykernel_launcher.py:23: SettingWithCopyWarning: \n",
      "A value is trying to be set on a copy of a slice from a DataFrame\n",
      "\n",
      "See the caveats in the documentation: http://pandas.pydata.org/pandas-docs/stable/indexing.html#indexing-view-versus-copy\n",
      "C:\\Users\\Aspire_andre\\Anaconda3\\lib\\site-packages\\ipykernel_launcher.py:27: SettingWithCopyWarning: \n",
      "A value is trying to be set on a copy of a slice from a DataFrame\n",
      "\n",
      "See the caveats in the documentation: http://pandas.pydata.org/pandas-docs/stable/indexing.html#indexing-view-versus-copy\n",
      "C:\\Users\\Aspire_andre\\Anaconda3\\lib\\site-packages\\ipykernel_launcher.py:30: SettingWithCopyWarning: \n",
      "A value is trying to be set on a copy of a slice from a DataFrame\n",
      "\n",
      "See the caveats in the documentation: http://pandas.pydata.org/pandas-docs/stable/indexing.html#indexing-view-versus-copy\n",
      "C:\\Users\\Aspire_andre\\Anaconda3\\lib\\site-packages\\ipykernel_launcher.py:32: SettingWithCopyWarning: \n",
      "A value is trying to be set on a copy of a slice from a DataFrame\n",
      "\n",
      "See the caveats in the documentation: http://pandas.pydata.org/pandas-docs/stable/indexing.html#indexing-view-versus-copy\n",
      "C:\\Users\\Aspire_andre\\Anaconda3\\lib\\site-packages\\ipykernel_launcher.py:34: SettingWithCopyWarning: \n",
      "A value is trying to be set on a copy of a slice from a DataFrame\n",
      "\n",
      "See the caveats in the documentation: http://pandas.pydata.org/pandas-docs/stable/indexing.html#indexing-view-versus-copy\n",
      "C:\\Users\\Aspire_andre\\Anaconda3\\lib\\site-packages\\ipykernel_launcher.py:25: SettingWithCopyWarning: \n",
      "A value is trying to be set on a copy of a slice from a DataFrame\n",
      "\n",
      "See the caveats in the documentation: http://pandas.pydata.org/pandas-docs/stable/indexing.html#indexing-view-versus-copy\n"
     ]
    }
   ],
   "source": [
    "i = 0\n",
    "for lin in teste_f['palavras']:\n",
    "    p0 = 1\n",
    "    p1 = 1\n",
    "    prob1 = []\n",
    "    prob0 = []\n",
    "    for palavra in lin:\n",
    "        try:\n",
    "            p1 *= (frq1[palavra] +1)/(sum(frq1) + len(frq1))\n",
    "            p0 *= (frq0[palavra] +1)/(sum(frq0) + len(frq0))\n",
    "            prob1.append(p1)\n",
    "            prob0.append(p0)\n",
    "        except:\n",
    "            p1 *= 1/(sum(frq1) + len(frq1))\n",
    "            p0 *= 1/(sum(frq0) + len(frq0))\n",
    "            prob1.append(p1)\n",
    "            prob0.append(p0)\n",
    "            \n",
    "    multiplica1 = multiplica(prob1)   \n",
    "    multiplica0 = multiplica(prob0)\n",
    "    \n",
    "    if multiplica1 > multiplica0:\n",
    "        dados_teste['Bot'][i] = 1\n",
    "        if dados_teste['Bot'][i] == dados_teste['Relevancia'][i]:\n",
    "            dados_teste['Resultado'][i] = 'Positivo Verdadeiro'\n",
    "        elif dados_teste['Bot'][i] != dados_teste['Relevancia'][i]:\n",
    "            dados_teste['Resultado'][i] = 'Positivo Falso'\n",
    "    else:\n",
    "    #elif multiplica0 > multiplica1:\n",
    "        dados_teste['Bot'][i] = 0\n",
    "        if dados_teste['Bot'][i] == dados_teste['Relevancia'][i]:\n",
    "            dados_teste['Resultado'][i] = 'Negativo Verdadeiro'\n",
    "        elif dados_teste['Bot'][i] != dados_teste['Relevancia'][i]:\n",
    "            dados_teste['Resultado'][i] = 'Negativo Falso'\n",
    "    i += 1"
   ]
  },
  {
   "cell_type": "code",
   "execution_count": 88,
   "metadata": {},
   "outputs": [
    {
     "data": {
      "text/html": [
       "<div>\n",
       "<style scoped>\n",
       "    .dataframe tbody tr th:only-of-type {\n",
       "        vertical-align: middle;\n",
       "    }\n",
       "\n",
       "    .dataframe tbody tr th {\n",
       "        vertical-align: top;\n",
       "    }\n",
       "\n",
       "    .dataframe thead th {\n",
       "        text-align: right;\n",
       "    }\n",
       "</style>\n",
       "<table border=\"1\" class=\"dataframe\">\n",
       "  <thead>\n",
       "    <tr style=\"text-align: right;\">\n",
       "      <th></th>\n",
       "      <th>Teste</th>\n",
       "      <th>Relevancia</th>\n",
       "      <th>Bot</th>\n",
       "      <th>Resultado</th>\n",
       "    </tr>\n",
       "  </thead>\n",
       "  <tbody>\n",
       "    <tr>\n",
       "      <th>0</th>\n",
       "      <td>@mxttewz intel vc me prometeu</td>\n",
       "      <td>0</td>\n",
       "      <td>1</td>\n",
       "      <td>Positivo Falso</td>\n",
       "    </tr>\n",
       "    <tr>\n",
       "      <th>1</th>\n",
       "      <td># partiusp  se os seus  # servidores vao pra ...</td>\n",
       "      <td>0</td>\n",
       "      <td>0</td>\n",
       "      <td>Negativo Verdadeiro</td>\n",
       "    </tr>\n",
       "    <tr>\n",
       "      <th>2</th>\n",
       "      <td>no entanto quando falamos de graficos o amd sa...</td>\n",
       "      <td>1</td>\n",
       "      <td>0</td>\n",
       "      <td>Negativo Falso</td>\n",
       "    </tr>\n",
       "    <tr>\n",
       "      <th>3</th>\n",
       "      <td>@apex_intel super mario galaxy  2</td>\n",
       "      <td>0</td>\n",
       "      <td>1</td>\n",
       "      <td>Positivo Falso</td>\n",
       "    </tr>\n",
       "    <tr>\n",
       "      <th>4</th>\n",
       "      <td>🎁  ‍ super precio   # amazon   # informatical...</td>\n",
       "      <td>0</td>\n",
       "      <td>0</td>\n",
       "      <td>Negativo Verdadeiro</td>\n",
       "    </tr>\n",
       "    <tr>\n",
       "      <th>5</th>\n",
       "      <td>olimpiadas de  2  0  2  0  terao reconheciment...</td>\n",
       "      <td>0</td>\n",
       "      <td>0</td>\n",
       "      <td>Negativo Verdadeiro</td>\n",
       "    </tr>\n",
       "    <tr>\n",
       "      <th>6</th>\n",
       "      <td>servidores dual xeon com apenas  1  processado...</td>\n",
       "      <td>0</td>\n",
       "      <td>0</td>\n",
       "      <td>Negativo Verdadeiro</td>\n",
       "    </tr>\n",
       "    <tr>\n",
       "      <th>7</th>\n",
       "      <td>olimpiada de toquio tera campeonato de street ...</td>\n",
       "      <td>0</td>\n",
       "      <td>0</td>\n",
       "      <td>Negativo Verdadeiro</td>\n",
       "    </tr>\n",
       "    <tr>\n",
       "      <th>8</th>\n",
       "      <td>@memeshltv intel extreme masters santa efigenia</td>\n",
       "      <td>0</td>\n",
       "      <td>1</td>\n",
       "      <td>Positivo Falso</td>\n",
       "    </tr>\n",
       "    <tr>\n",
       "      <th>9</th>\n",
       "      <td>no magazine luiza voce encontranotebook dell i...</td>\n",
       "      <td>0</td>\n",
       "      <td>0</td>\n",
       "      <td>Negativo Verdadeiro</td>\n",
       "    </tr>\n",
       "    <tr>\n",
       "      <th>...</th>\n",
       "      <td>...</td>\n",
       "      <td>...</td>\n",
       "      <td>...</td>\n",
       "      <td>...</td>\n",
       "    </tr>\n",
       "    <tr>\n",
       "      <th>190</th>\n",
       "      <td>@playapex  @apexpredatorsbr  @playapexbra  @b...</td>\n",
       "      <td>0</td>\n",
       "      <td>0</td>\n",
       "      <td>Negativo Verdadeiro</td>\n",
       "    </tr>\n",
       "    <tr>\n",
       "      <th>191</th>\n",
       "      <td>qnap nas  nas de la marca qnap modelo ts 2  5 ...</td>\n",
       "      <td>0</td>\n",
       "      <td>0</td>\n",
       "      <td>Negativo Verdadeiro</td>\n",
       "    </tr>\n",
       "    <tr>\n",
       "      <th>192</th>\n",
       "      <td>@hyevees como eu amo minha placa de video int...</td>\n",
       "      <td>1</td>\n",
       "      <td>1</td>\n",
       "      <td>Positivo Verdadeiro</td>\n",
       "    </tr>\n",
       "    <tr>\n",
       "      <th>193</th>\n",
       "      <td>intel traz o  3 d realidade aumentada e  5 g p...</td>\n",
       "      <td>0</td>\n",
       "      <td>0</td>\n",
       "      <td>Negativo Verdadeiro</td>\n",
       "    </tr>\n",
       "    <tr>\n",
       "      <th>194</th>\n",
       "      <td>@esportsobserved  @intel  @rocketleague  @str...</td>\n",
       "      <td>0</td>\n",
       "      <td>0</td>\n",
       "      <td>Negativo Verdadeiro</td>\n",
       "    </tr>\n",
       "    <tr>\n",
       "      <th>195</th>\n",
       "      <td>@roxmo vergonha</td>\n",
       "      <td>0</td>\n",
       "      <td>1</td>\n",
       "      <td>Positivo Falso</td>\n",
       "    </tr>\n",
       "    <tr>\n",
       "      <th>196</th>\n",
       "      <td>@phudeo sim me empolguei quando a apple mudou...</td>\n",
       "      <td>1</td>\n",
       "      <td>0</td>\n",
       "      <td>Negativo Falso</td>\n",
       "    </tr>\n",
       "    <tr>\n",
       "      <th>197</th>\n",
       "      <td>@ydavipvpz mano wtf tu falou q tinha um i 3  ...</td>\n",
       "      <td>1</td>\n",
       "      <td>0</td>\n",
       "      <td>Negativo Falso</td>\n",
       "    </tr>\n",
       "    <tr>\n",
       "      <th>198</th>\n",
       "      <td>intel quer suportar a instrucao fsgsbase no li...</td>\n",
       "      <td>0</td>\n",
       "      <td>0</td>\n",
       "      <td>Negativo Verdadeiro</td>\n",
       "    </tr>\n",
       "    <tr>\n",
       "      <th>199</th>\n",
       "      <td>@ryzenhapeople atom…</td>\n",
       "      <td>1</td>\n",
       "      <td>1</td>\n",
       "      <td>Positivo Verdadeiro</td>\n",
       "    </tr>\n",
       "  </tbody>\n",
       "</table>\n",
       "<p>200 rows × 4 columns</p>\n",
       "</div>"
      ],
      "text/plain": [
       "                                                 Teste  Relevancia  Bot  \\\n",
       "0                        @mxttewz intel vc me prometeu           0    1   \n",
       "1     # partiusp  se os seus  # servidores vao pra ...           0    0   \n",
       "2    no entanto quando falamos de graficos o amd sa...           1    0   \n",
       "3                   @apex_intel super mario galaxy  2            0    1   \n",
       "4     🎁  ‍ super precio   # amazon   # informatical...           0    0   \n",
       "5    olimpiadas de  2  0  2  0  terao reconheciment...           0    0   \n",
       "6    servidores dual xeon com apenas  1  processado...           0    0   \n",
       "7    olimpiada de toquio tera campeonato de street ...           0    0   \n",
       "8      @memeshltv intel extreme masters santa efigenia           0    1   \n",
       "9    no magazine luiza voce encontranotebook dell i...           0    0   \n",
       "..                                                 ...         ...  ...   \n",
       "190   @playapex  @apexpredatorsbr  @playapexbra  @b...           0    0   \n",
       "191  qnap nas  nas de la marca qnap modelo ts 2  5 ...           0    0   \n",
       "192   @hyevees como eu amo minha placa de video int...           1    1   \n",
       "193  intel traz o  3 d realidade aumentada e  5 g p...           0    0   \n",
       "194   @esportsobserved  @intel  @rocketleague  @str...           0    0   \n",
       "195                                    @roxmo vergonha           0    1   \n",
       "196   @phudeo sim me empolguei quando a apple mudou...           1    0   \n",
       "197   @ydavipvpz mano wtf tu falou q tinha um i 3  ...           1    0   \n",
       "198  intel quer suportar a instrucao fsgsbase no li...           0    0   \n",
       "199                               @ryzenhapeople atom…           1    1   \n",
       "\n",
       "               Resultado  \n",
       "0         Positivo Falso  \n",
       "1    Negativo Verdadeiro  \n",
       "2         Negativo Falso  \n",
       "3         Positivo Falso  \n",
       "4    Negativo Verdadeiro  \n",
       "5    Negativo Verdadeiro  \n",
       "6    Negativo Verdadeiro  \n",
       "7    Negativo Verdadeiro  \n",
       "8         Positivo Falso  \n",
       "9    Negativo Verdadeiro  \n",
       "..                   ...  \n",
       "190  Negativo Verdadeiro  \n",
       "191  Negativo Verdadeiro  \n",
       "192  Positivo Verdadeiro  \n",
       "193  Negativo Verdadeiro  \n",
       "194  Negativo Verdadeiro  \n",
       "195       Positivo Falso  \n",
       "196       Negativo Falso  \n",
       "197       Negativo Falso  \n",
       "198  Negativo Verdadeiro  \n",
       "199  Positivo Verdadeiro  \n",
       "\n",
       "[200 rows x 4 columns]"
      ]
     },
     "execution_count": 88,
     "metadata": {},
     "output_type": "execute_result"
    }
   ],
   "source": [
    "#Visualização da tabela pronta:\n",
    "dados_teste"
   ]
  },
  {
   "cell_type": "code",
   "execution_count": 89,
   "metadata": {
    "scrolled": false
   },
   "outputs": [
    {
     "data": {
      "text/plain": [
       "Negativo Verdadeiro    63.0\n",
       "Positivo Falso         15.0\n",
       "Negativo Falso         15.0\n",
       "Positivo Verdadeiro     7.0\n",
       "Name: Resultado, dtype: float64"
      ]
     },
     "execution_count": 89,
     "metadata": {},
     "output_type": "execute_result"
    }
   ],
   "source": [
    "#Frequencia relativa do resultado das comparações\n",
    "dados_teste['Resultado'].value_counts(True)*100"
   ]
  },
  {
   "cell_type": "code",
   "execution_count": 93,
   "metadata": {},
   "outputs": [
    {
     "data": {
      "text/plain": [
       "0    78.0\n",
       "1    22.0\n",
       "Name: Relevancia, dtype: float64"
      ]
     },
     "execution_count": 93,
     "metadata": {},
     "output_type": "execute_result"
    }
   ],
   "source": [
    "dados_teste['Relevancia'].value_counts(True)*100"
   ]
  },
  {
   "cell_type": "markdown",
   "metadata": {},
   "source": [
    "### Perguntas para o aperfeiçoamento"
   ]
  },
  {
   "cell_type": "markdown",
   "metadata": {},
   "source": [
    "#### Propor diferentes cenários para Naïve Bayes fora do contexto do projeto\n",
    "É possível imaginar outros cenários para o classificador de Naive Bayes além da classificação de Tweets, como por exemplo prever avaliações de filmes e séries, através de análises anteriores de usuários e pessoas de referência na área, fazendo com que assim seus produtores tenham ideia do que esperar da crítica de suas produções. Outro exemplo da aplicação desse classificador é a previsão da aceitação de videogames, que ao se analisar o sucesso de diversos jogos similares e de mecânicas que estão presentes nesses jogos, torna possível estimar se o jogo irá fazer sucesso ou não no meio que ele será inserido.\n",
    "#### Sugerir e explicar melhorias reais com indicações concretas de como implementar (indicar como fazer e indicar material de pesquisa)\n",
    "Para tornar o classificador mais preciso e confiável, seria necessário fornecê-lo uma base de dados maior, fazendo com que o filtro ficasse melhor devido a maior quantidade de exemplos para analisar e determinar palavras chave de exemplos relevantes ou irrelevantes.\n",
    "Outro exemplo de melhoria seria a implementação de mais classificações para o programa, como por exemplo Tweets Muito relevantes, Críticas, Elogios, entre outras, para assim poder ter mais precisão ainda no tipo de tweet que a empresa deseja analisar. Isso proporciona uma economia de tempo quando precisa-se cuidar da imagem que seu produto passa aos consumidores usuários de redes sociais, dando a possibilidade de responder os tweets importantes. Por fim, outra grande melhoria seria criar uma nova classificação relacionada ao assunto do tweet a ser respondido, como por exemplo para uma desenvolvedora de jogos, que ao separar os tweets pelos jogos que eles estão falando, é possível manda-los corretamente para cada área da desenvolvedora, para assim saber as melhorias que os usuários querem para cada jogo que estão utilizando.\n"
   ]
  },
  {
   "cell_type": "markdown",
   "metadata": {},
   "source": [
    "___\n",
    "### Concluindo"
   ]
  },
  {
   "cell_type": "markdown",
   "metadata": {},
   "source": [
    "Em suma, a partir dos resultados obtidos com o uso do classificador, é possível notar que o número de Positivos Verdadeiros(7%),tweets que foram dados como relevantes e realmente são relevantes, é compensado pela grande efetividade do classificador de Naive Bayes em obter Negativos Verdadeiros(63%),tweets classificados como não relevante e que de fato não são relevantes, fator este que comprova sua eficácia em filtrar Tweets que uma empresa deveria prestar atenção quando for utilizar suas redes sociais para fazer pesquisas e analisar a satisfação de seus consumidores. Também é necessário levar em conta que, embora 7% seja baixo quando comparado ao total, a porcentagem de Tweets relevantes avaliados manualmente era de 22%. Este é o real valor máximo de Tweets relevantes\n",
    "\n",
    "Portanto, para tornar o classificador mais preciso e confiável, seria necessário fornecê-lo uma base de dados maior, fazendo com que o filtro ficasse melhor devido a maior quantidade de exemplos para analisar e determinar palavras chave de exemplos relevantes ou irrelevantes.\n",
    "\n",
    "Outro exemplo de melhoria, seria a implementação de mais classificações para o programa, como por exemplo Tweets Muito relevantes, Críticas, Elogios,  Muito irrelevantes, entre outras, para assim poder ter mais precisão ainda no tipo de tweet que a empresa deseja responder, o que proporciona uma economia de tempo quando a empresa precisa cuidar de suas redes sociais, dando a possibilidade de responder os tweets importantes invés de ter que ficar procurando por eles por um longo tempo.\n",
    "\n",
    "\n",
    "Logo, com tudo o que foi abordado durante está conclusão, é possível afirmar que o classificador de Naive Bayes é uma ferramenta extremamente eficaz e poderosa para fazer a classificação de vários dados, não ficando apenas no cenário das redes sociais como o Twiter, mas podendo ser utilizado amplamente em diversas outras áreas fora do campo de  Machine Learning, o que faz com que o estudo de seu funcionamento e da maneira de seu desenvolvimento uma grande ajuda para a solução de diversos problemas.\n"
   ]
  },
  {
   "cell_type": "markdown",
   "metadata": {},
   "source": [
    "## Aperfeiçoamento:\n",
    "\n",
    "Os trabalhos vão evoluir em conceito dependendo da quantidade de itens avançados:\n",
    "\n",
    "* Limpar: \\n, :, \", ', (, ), etc SEM remover emojis\n",
    "* Corrigir separação de espaços entre palavras e emojis ou emojis e emojis\n",
    "* Propor outras limpezas e transformações que não afetem a qualidade da informação ou classificação\n",
    "* Criar categorias intermediárias de relevância baseadas na probabilidade: ex.: muito relevante, relevante, neutro, irrelevante, muito irrelevante (3 categorias: C, mais categorias conta para B)\n",
    "* Explicar por que não posso usar o próprio classificador para gerar mais amostras de treinamento\n",
    "* Propor diferentes cenários para Naïve Bayes fora do contexto do projeto\n",
    "* Sugerir e explicar melhorias reais com indicações concretas de como implementar (indicar como fazer e indicar material de pesquisa)\n",
    "* Montar um dashboard que periodicamente realiza análise de sentimento e visualiza estes dados"
   ]
  },
  {
   "cell_type": "markdown",
   "metadata": {},
   "source": [
    "# Referências"
   ]
  },
  {
   "cell_type": "markdown",
   "metadata": {},
   "source": [
    "[Naive Bayes and Text Classification](https://arxiv.org/pdf/1410.5329.pdf)  **Mais completo**\n",
    "\n",
    "[A practical explanation of a Naive Bayes Classifier](https://monkeylearn.com/blog/practical-explanation-naive-bayes-classifier/) **Mais simples**"
   ]
  },
  {
   "cell_type": "code",
   "execution_count": null,
   "metadata": {},
   "outputs": [],
   "source": []
  }
 ],
 "metadata": {
  "kernelspec": {
   "display_name": "Python 3",
   "language": "python",
   "name": "python3"
  },
  "language_info": {
   "codemirror_mode": {
    "name": "ipython",
    "version": 3
   },
   "file_extension": ".py",
   "mimetype": "text/x-python",
   "name": "python",
   "nbconvert_exporter": "python",
   "pygments_lexer": "ipython3",
   "version": "3.7.1"
  }
 },
 "nbformat": 4,
 "nbformat_minor": 4
}
